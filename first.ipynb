{
  "nbformat": 4,
  "nbformat_minor": 0,
  "metadata": {
    "colab": {
      "name": "first.ipynb",
      "version": "0.3.2",
      "provenance": [],
      "collapsed_sections": [],
      "include_colab_link": true
    },
    "kernelspec": {
      "name": "python3",
      "display_name": "Python 3"
    }
  },
  "cells": [
    {
      "cell_type": "markdown",
      "metadata": {
        "id": "view-in-github",
        "colab_type": "text"
      },
      "source": [
        "<a href=\"https://colab.research.google.com/github/AAAAAAAHSAN/SuggestionMining-Python/blob/master/first.ipynb\" target=\"_parent\"><img src=\"https://colab.research.google.com/assets/colab-badge.svg\" alt=\"Open In Colab\"/></a>"
      ]
    },
    {
      "cell_type": "code",
      "metadata": {
        "id": "L36GSrMt0Hvb",
        "colab_type": "code",
        "colab": {
          "base_uri": "https://localhost:8080/",
          "height": 187
        },
        "outputId": "18ab6845-9f70-458b-ade7-3de664fe71f5"
      },
      "source": [
        "from gensim.models import KeyedVectors\n",
        "PretrainedW2VModel= KeyedVectors.load_word2vec_format(\"/content/drive/My Drive/BinFiles/TestVectors.bin\", binary=True)\n",
        "similarWords=PretrainedW2VModel.most_similar('computer',topn=10)\n",
        "for topword in similarWords:\n",
        "     print(topword)"
      ],
      "execution_count": 7,
      "outputs": [
        {
          "output_type": "stream",
          "text": [
            "('computers', 0.6938802003860474)\n",
            "('computing', 0.631948709487915)\n",
            "('automation', 0.5896887183189392)\n",
            "('computerized', 0.5531872510910034)\n",
            "('interfacing', 0.550386905670166)\n",
            "('software', 0.5454026460647583)\n",
            "('digital', 0.5353001356124878)\n",
            "('hardware', 0.5337001085281372)\n",
            "('edsac', 0.5287253260612488)\n",
            "('cad', 0.5135565996170044)\n"
          ],
          "name": "stdout"
        }
      ]
    },
    {
      "cell_type": "code",
      "metadata": {
        "id": "lTG8xaaj0e8i",
        "colab_type": "code",
        "colab": {
          "base_uri": "https://localhost:8080/",
          "height": 187
        },
        "outputId": "cab1ef0f-2d31-48ea-8e1d-1adbb980c729"
      },
      "source": [
        "from gensim.models import KeyedVectors\n",
        "PretrainedW2VModel= KeyedVectors.load_word2vec_format(\"/content/drive/My Drive/BinFiles/GoogleNews-vectors-negative300.bin.gz\", binary=True)\n",
        "similarWords=PretrainedW2VModel.most_similar('computer',topn=10)\n",
        "for topword in similarWords:\n",
        "     print(topword)"
      ],
      "execution_count": 8,
      "outputs": [
        {
          "output_type": "stream",
          "text": [
            "('computers', 0.7979379892349243)\n",
            "('laptop', 0.6640493273735046)\n",
            "('laptop_computer', 0.6548868417739868)\n",
            "('Computer', 0.6473334431648254)\n",
            "('com_puter', 0.6082079410552979)\n",
            "('technician_Leonard_Luchko', 0.5662748217582703)\n",
            "('mainframes_minicomputers', 0.5617721080780029)\n",
            "('laptop_computers', 0.5585449934005737)\n",
            "('PC', 0.5539618134498596)\n",
            "('maker_Dell_DELL.O', 0.5519254207611084)\n"
          ],
          "name": "stdout"
        }
      ]
    },
    {
      "cell_type": "code",
      "metadata": {
        "id": "ZxJtIHwH2ait",
        "colab_type": "code",
        "colab": {}
      },
      "source": [
        ""
      ],
      "execution_count": 0,
      "outputs": []
    }
  ]
}